{
 "cells": [
  {
   "cell_type": "code",
   "execution_count": 11,
   "metadata": {},
   "outputs": [],
   "source": [
    "import re\n",
    "s = \"A man, a plan, a canal: Panama\"\n",
    "re_s = re.sub('[^a-z0-9]',\"\",s.lower()).strip()"
   ]
  },
  {
   "cell_type": "code",
   "execution_count": 13,
   "metadata": {},
   "outputs": [
    {
     "data": {
      "text/plain": [
       "'amanaplana'"
      ]
     },
     "execution_count": 13,
     "metadata": {},
     "output_type": "execute_result"
    }
   ],
   "source": [
    "s_half = len(re_s)//2\n",
    "re_s[:s_half]"
   ]
  },
  {
   "cell_type": "code",
   "execution_count": 32,
   "metadata": {},
   "outputs": [
    {
     "name": "stdout",
     "output_type": "stream",
     "text": [
      "1\n",
      "4\n",
      "\n",
      "2\n",
      "4\n",
      "\n",
      "3\n",
      "4\n",
      "\n",
      "4\n",
      "4\n",
      "\n",
      "5\n",
      "4\n",
      "\n"
     ]
    }
   ],
   "source": [
    "a = '12345'\n",
    "b = '44444444'\n",
    "for i,c in zip(a,b):\n",
    "    print(i)\n",
    "    print(c)\n",
    "    print()\n"
   ]
  }
 ],
 "metadata": {
  "kernelspec": {
   "display_name": "Python 3",
   "language": "python",
   "name": "python3"
  },
  "language_info": {
   "codemirror_mode": {
    "name": "ipython",
    "version": 3
   },
   "file_extension": ".py",
   "mimetype": "text/x-python",
   "name": "python",
   "nbconvert_exporter": "python",
   "pygments_lexer": "ipython3",
   "version": "3.10.2"
  }
 },
 "nbformat": 4,
 "nbformat_minor": 2
}
