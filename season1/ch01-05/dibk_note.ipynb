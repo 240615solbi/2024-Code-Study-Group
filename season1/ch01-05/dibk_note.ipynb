{
 "cells": [
  {
   "cell_type": "markdown",
   "metadata": {},
   "source": [
    "# **Python Algorithm Interview**\n",
    "\n",
    "### 1부 코딩 인터뷰\n",
    "1. 코딩인터뷰\n",
    "2. 프로그래밍 언어 선택\n",
    "    - 제네릭 프로그래밍, 구조체, 클래스\n",
    "\n",
    "\n",
    "### 2부 파이썬\n",
    "3. 파이썬\n",
    "   - (추가 작성)\n",
    "4. 빅오, 자료형\n",
    "5. 리스트, 딕셔너리"
   ]
  }
 ],
 "metadata": {
  "kernelspec": {
   "display_name": "Python 3",
   "language": "python",
   "name": "python3"
  },
  "language_info": {
   "codemirror_mode": {
    "name": "ipython",
    "version": 3
   },
   "file_extension": ".py",
   "mimetype": "text/x-python",
   "name": "python",
   "nbconvert_exporter": "python",
   "pygments_lexer": "ipython3",
   "version": "3.10.2"
  }
 },
 "nbformat": 4,
 "nbformat_minor": 2
}
